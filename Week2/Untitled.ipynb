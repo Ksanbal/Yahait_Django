{
 "cells": [
  {
   "cell_type": "code",
   "execution_count": 45,
   "metadata": {},
   "outputs": [],
   "source": [
    "import copy\n",
    "import pprint"
   ]
  },
  {
   "cell_type": "code",
   "execution_count": 46,
   "metadata": {},
   "outputs": [],
   "source": [
    "seat = []\n",
    "t = 1\n",
    "for i in range(5):\n",
    "    line = []\n",
    "    for j in range(5):\n",
    "        line.append(t)\n",
    "        t+=1"
   ]
  },
  {
   "cell_type": "code",
   "execution_count": 47,
   "metadata": {},
   "outputs": [],
   "source": [
    "class Screen: #상속을 위한 상영관 클래스 \n",
    "    \n",
    "    # seat 번호를 초기화하는 메소드\n",
    "    def _MakeSeat():\n",
    "        seat = [] #초기화 될 2차원배열 선언\n",
    "        ascii_A = 65 #아스키코드 A\n",
    "        ascii_1 = 49 #아스키코드 1\n",
    "        \n",
    "        for i in range(5):\n",
    "            listt = []\n",
    "            for j in range(5):\n",
    "                listt.append(chr(ascii_A)+chr(ascii_1))\n",
    "                ascii_1 += 1     \n",
    "            ascii_A += 1 #A~E까지 증가\n",
    "            ascii_1 -= 5 #5까지 올라간 아스키값을 다시 1로 바꿈\n",
    "            \n",
    "            seat.append(listt)\n",
    "            \n",
    "        return seat\n",
    "    \n",
    "    # seat의 예매 여부를 가지는 Bool List\n",
    "    _seat_ticket = [[False for _ in range(5)] for _ in range(5)]\n",
    "    \n",
    "    \n",
    "    movie_name = \"No Movie\" #영화명\n",
    "    time_n_seat = [         #time_n_seat\n",
    "        ['1st', _MakeSeat(), copy.deepcopy(_seat_ticket)],\n",
    "        ['2nd', _MakeSeat(), copy.deepcopy(_seat_ticket)],\n",
    "        ['3rd', _MakeSeat(), copy.deepcopy(_seat_ticket)],\n",
    "        ['4rd', _MakeSeat(), copy.deepcopy(_seat_ticket)]\n",
    "        ]"
   ]
  },
  {
   "cell_type": "code",
   "execution_count": 48,
   "metadata": {},
   "outputs": [],
   "source": [
    "Megabox = []"
   ]
  },
  {
   "cell_type": "code",
   "execution_count": 49,
   "metadata": {},
   "outputs": [],
   "source": [
    "for i in range(3):\n",
    "    Megabox.append(Screen())"
   ]
  },
  {
   "cell_type": "code",
   "execution_count": 50,
   "metadata": {},
   "outputs": [
    {
     "data": {
      "text/plain": [
       "'2nd'"
      ]
     },
     "execution_count": 50,
     "metadata": {},
     "output_type": "execute_result"
    }
   ],
   "source": [
    "Megabox[0].time_n_seat[1][0]"
   ]
  },
  {
   "cell_type": "code",
   "execution_count": 51,
   "metadata": {},
   "outputs": [
    {
     "name": "stdout",
     "output_type": "stream",
     "text": [
      "[['A1', 'A2', 'A3', 'A4', 'A5'],\n",
      " ['B1', 'B2', 'B3', 'B4', 'B5'],\n",
      " ['C1', 'C2', 'C3', 'C4', 'C5'],\n",
      " ['D1', 'D2', 'D3', 'D4', 'D5'],\n",
      " ['E1', 'E2', 'E3', 'E4', 'E5']]\n"
     ]
    }
   ],
   "source": [
    "pprint.pprint(Megabox[0].time_n_seat[0][1])"
   ]
  },
  {
   "cell_type": "code",
   "execution_count": 58,
   "metadata": {},
   "outputs": [
    {
     "data": {
      "text/plain": [
       "[['A1', 'A2', 'A3', 'A4', 'A5'],\n",
       " ['B1', 'B2', 'B3', 'B4', 'B5'],\n",
       " ['C1', 'C2', 'C3', 'C4', 'C5'],\n",
       " ['D1', 'D2', 'D3', 'D4', 'D5'],\n",
       " ['E1', 'E2', 'E3', 'E4', 'E5']]"
      ]
     },
     "execution_count": 58,
     "metadata": {},
     "output_type": "execute_result"
    }
   ],
   "source": [
    "Megabox[0].time_n_seat[0][1]"
   ]
  },
  {
   "cell_type": "code",
   "execution_count": 40,
   "metadata": {},
   "outputs": [
    {
     "data": {
      "text/plain": [
       "[['A1', 'A2', 'A3', 'A4', 'A5'],\n",
       " ['B1', 'B2', 'B3', 'B4', 'B5'],\n",
       " ['C1', 'C2', 'C3', 'C4', 'C5'],\n",
       " ['D1', 'D2', 'D3', 'D4', 'D5'],\n",
       " ['E1', 'E2', 'E3', 'E4', 'E5']]"
      ]
     },
     "execution_count": 40,
     "metadata": {},
     "output_type": "execute_result"
    }
   ],
   "source": [
    "Megabox[0].time_n_seat[0][1]"
   ]
  },
  {
   "cell_type": "code",
   "execution_count": 44,
   "metadata": {},
   "outputs": [
    {
     "name": "stdout",
     "output_type": "stream",
     "text": [
      "A1 A2 A3 A4 A5 \n",
      "B1 B2 B3 B4 B5 \n",
      "C1 C2 C3 C4 C5 \n",
      "D1 D2 D3 D4 D5 \n",
      "E1 E2 E3 E4 E5 \n"
     ]
    }
   ],
   "source": [
    "for i in range(len(Megabox[0].time_n_seat[0][1])):\n",
    "    for j in range(len(Megabox[0].time_n_seat[0][1][i])):\n",
    "        print(Megabox[0].time_n_seat[0][1][i][j], end=' ')\n",
    "    print()"
   ]
  },
  {
   "cell_type": "code",
   "execution_count": 42,
   "metadata": {},
   "outputs": [
    {
     "data": {
      "text/plain": [
       "range(0, 5)"
      ]
     },
     "execution_count": 42,
     "metadata": {},
     "output_type": "execute_result"
    }
   ],
   "source": [
    "range(len(Megabox[0].time_n_seat[0][1]))"
   ]
  },
  {
   "cell_type": "code",
   "execution_count": 14,
   "metadata": {},
   "outputs": [
    {
     "ename": "TypeError",
     "evalue": "list indices must be integers or slices, not Screen",
     "output_type": "error",
     "traceback": [
      "\u001b[0;31m---------------------------------------------------------------------------\u001b[0m",
      "\u001b[0;31mTypeError\u001b[0m                                 Traceback (most recent call last)",
      "\u001b[0;32m<ipython-input-14-4ceb53de2f9d>\u001b[0m in \u001b[0;36m<module>\u001b[0;34m\u001b[0m\n\u001b[1;32m      1\u001b[0m \u001b[0;32mfor\u001b[0m \u001b[0mi\u001b[0m \u001b[0;32min\u001b[0m \u001b[0mMegabox\u001b[0m\u001b[0;34m:\u001b[0m\u001b[0;34m\u001b[0m\u001b[0;34m\u001b[0m\u001b[0m\n\u001b[0;32m----> 2\u001b[0;31m     \u001b[0mprint\u001b[0m\u001b[0;34m(\u001b[0m\u001b[0mMegabox\u001b[0m\u001b[0;34m[\u001b[0m\u001b[0mi\u001b[0m\u001b[0;34m]\u001b[0m\u001b[0;34m)\u001b[0m\u001b[0;34m\u001b[0m\u001b[0;34m\u001b[0m\u001b[0m\n\u001b[0m",
      "\u001b[0;31mTypeError\u001b[0m: list indices must be integers or slices, not Screen"
     ]
    }
   ],
   "source": [
    "for i in Megabox:\n",
    "    print(Megabox[i])"
   ]
  },
  {
   "cell_type": "code",
   "execution_count": 22,
   "metadata": {},
   "outputs": [
    {
     "name": "stdout",
     "output_type": "stream",
     "text": [
      "Do you want to chage time1\n",
      "1\n"
     ]
    }
   ],
   "source": [
    "if 1 == int(input(\"Do you want to chage time\")):\n",
    "    print(1)\n",
    "    "
   ]
  },
  {
   "cell_type": "code",
   "execution_count": 26,
   "metadata": {},
   "outputs": [
    {
     "name": "stdout",
     "output_type": "stream",
     "text": [
      "0\n",
      "1\n",
      "2\n"
     ]
    }
   ],
   "source": [
    "for _ in range(3):\n",
    "    print()"
   ]
  },
  {
   "cell_type": "code",
   "execution_count": 3,
   "metadata": {},
   "outputs": [
    {
     "name": "stdout",
     "output_type": "stream",
     "text": [
      "Requirement already satisfied: numpy in /anaconda3/lib/python3.7/site-packages (1.16.4)\n",
      "Note: you may need to restart the kernel to use updated packages.\n"
     ]
    }
   ],
   "source": [
    "%pip install numpy"
   ]
  },
  {
   "cell_type": "code",
   "execution_count": 4,
   "metadata": {},
   "outputs": [],
   "source": [
    "import numpy as np"
   ]
  },
  {
   "cell_type": "code",
   "execution_count": 11,
   "metadata": {},
   "outputs": [],
   "source": [
    "arr = np.full((5,5),True)"
   ]
  },
  {
   "cell_type": "code",
   "execution_count": 12,
   "metadata": {},
   "outputs": [
    {
     "data": {
      "text/plain": [
       "array([[ True,  True,  True,  True,  True],\n",
       "       [ True,  True,  True,  True,  True],\n",
       "       [ True,  True,  True,  True,  True],\n",
       "       [ True,  True,  True,  True,  True],\n",
       "       [ True,  True,  True,  True,  True]])"
      ]
     },
     "execution_count": 12,
     "metadata": {},
     "output_type": "execute_result"
    }
   ],
   "source": [
    "arr"
   ]
  },
  {
   "cell_type": "code",
   "execution_count": 13,
   "metadata": {},
   "outputs": [
    {
     "data": {
      "text/plain": [
       "25"
      ]
     },
     "execution_count": 13,
     "metadata": {},
     "output_type": "execute_result"
    }
   ],
   "source": [
    "np.sum(arr)"
   ]
  },
  {
   "cell_type": "code",
   "execution_count": 1,
   "metadata": {},
   "outputs": [],
   "source": [
    "ticket_price = {'adult':8000, 'teen':6000, 'child':4000}"
   ]
  },
  {
   "cell_type": "code",
   "execution_count": 60,
   "metadata": {},
   "outputs": [
    {
     "data": {
      "text/plain": [
       "int"
      ]
     },
     "execution_count": 60,
     "metadata": {},
     "output_type": "execute_result"
    }
   ],
   "source": [
    "type(ticket_price['adult'])"
   ]
  },
  {
   "cell_type": "code",
   "execution_count": null,
   "metadata": {},
   "outputs": [],
   "source": []
  }
 ],
 "metadata": {
  "kernelspec": {
   "display_name": "Python 3",
   "language": "python",
   "name": "python3"
  },
  "language_info": {
   "codemirror_mode": {
    "name": "ipython",
    "version": 3
   },
   "file_extension": ".py",
   "mimetype": "text/x-python",
   "name": "python",
   "nbconvert_exporter": "python",
   "pygments_lexer": "ipython3",
   "version": "3.7.3"
  }
 },
 "nbformat": 4,
 "nbformat_minor": 2
}
